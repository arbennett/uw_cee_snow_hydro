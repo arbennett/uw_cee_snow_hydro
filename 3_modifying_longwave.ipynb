{
 "cells": [
  {
   "cell_type": "markdown",
   "id": "excited-essence",
   "metadata": {},
   "source": [
    "# Comparing the effects of different longwave radiation parameterization on simulated snow\n",
    "\n",
    "## Introduction\n",
    "In this exercise we will explore how variability and uncertainty in longwave radiation affects simulations of snow. Longwave radiation, or thermal radiation, is emitted from objects and depends on the object's \"emissivity\" and temperature. The longwave radiation can be calculated as\n",
    "\n",
    "### $$ LW = \\epsilon \\sigma T^4 $$\n",
    "\n",
    "where $\\epsilon$ is the emissivity, $\\sigma$ is the [Stephan-Boltzmann constant](https://en.wikipedia.org/wiki/Stefan%E2%80%93Boltzmann_constant), and $T$ is the temperature (in Kelvin). Because longwave radiation is rarely measured, many models require estimations to close the energy balance. The FluxNet community maintains a large number of the sites where longwave measurements are taken across the world.\n",
    "\n",
    "#### **Locations of FluxNet towers throughout the world**\n",
    "![locations of fluxnet towers throughout the world](./assets/fluxnet.png)\n",
    "\n",
    "As you can see, there are only a couple hundred sites throughout the world and are particularly concentrated in North America and Europe. While other locations and consortiums for measuring longwave exist (such as a handful of SnoTel sites), they are still _very_ sparse throughout the world, and even through the United States. So, if we want to be able to model basins without observations we will need to estimate the longwave radiation. This mostly amounts to estimation of the emissivity, as temperature can be more easily taken from measurement, reanalysis, or simulated  (somewhat) reliably. There are a multitude of methods for estimating this, of which we will explore a few.\n",
    "\n",
    "## Study sites \n",
    "\n",
    "To do so, we have provided SUMMA setups for 3 sites with different hydroclimates. These sites were chosen because they do have longwave radiation measurements, and allow us to compare the simulated snowpack with the different estimation methods. These sites are Dana Meadows in Yosemite National park, Reynolds Mountain East (part of the [Reynolds Creek Experimental Watershed](https://czo-archive.criticalzone.org/reynolds/infrastructure/field-areas-reynolds/) in southwestern Idaho, and Col de Porte in the Chartreuse Mountains near Grenoble, France. The three site locations and their long term temperature records are shown below.\n",
    "\n",
    "#### **Locations of study sites**\n",
    "![locations of study sites](./assets/snow_sites.png)\n",
    "\n",
    "We have put together three years of data for each of the sites which can be used to run the SUMMA hydrologic model. SUMMA takes longwave radiation as an input variable, so we will provide both the observed and estimated values to compare how they affect the snowpack evolution. As mentioned above, there are several methods for estimating longwave radiation. \n",
    "\n",
    "## Longwave radiation parameterizations\n",
    "We have provided functionality for several of these, which we outline (with references) below:\n",
    "\n",
    "\n",
    "\n",
    "\n",
    "### TVA\n",
    "Heat and mass transfer between a water surface and the atmosphere. Tennessee Valley Authority, Norris, TN. Laboratory report no. 14. Water resources research report\n",
    "no. 0-6803.\n",
    "\n",
    "### $$ \\epsilon = 0.74 + 0.0049 \\cdot e $$\n",
    "\n",
    "### Anderson\n",
    "Anderson, E.R., 1954. Energy budget studies, water loss\n",
    "investigations: lake Hefner studies. U.S. Geol. Surv. Prof. Pap. 269,\n",
    "71–119 Available from U.S. Geological Survey, 807 National Center, Reston, VA 20192.\n",
    "\n",
    "### $$ \\epsilon = 0.68 + 0.036 \\cdot \\sqrt{e}$$\n",
    "\n",
    "### Satterlund\n",
    "Satterlund, D.R., 1979. An improved equation for estimating long-wave\n",
    "radiation from the atmosphere. Water Resour. Res. 15 (6), 1649–1650,\n",
    " doi:10.1029/WR015i006p01649.\n",
    "        \n",
    "### $$ \\epsilon = 1.08 (1 - exp(-e^{T/2016} )$$\n",
    "\n",
    "### Prata\n",
    "\n",
    "Prata, A.J., 1996. A new long-wave formula for estimating downward\n",
    "clear-sky radiation at the surface. Q. J. R. Meteor. Soc. 122 (533),\n",
    "1127–1151, doi:10.1002/qj.49712253306.\n",
    "\n",
    "### $$ r = (46.4 \\cdot (e/T)) $$\n",
    "### $$ \\epsilon = 1- (1+r) \\cdot exp\\left(-\\sqrt{1.2 + 3\\cdot r)}\\right) $$\n",
    "\n",
    "### DOKIA\n",
    "We also provide one more parameterization, which has a slightly different formulation.\n",
    "\n",
    "Clear sky reference: \n",
    "\n",
    "Dilley, A. C., and D. M. O<92>Brien (1998), Estimating downward clear sky\n",
    "long-wave irradiance at the surface from screen temperature and precipitable\n",
    "water, Q. J. R. Meteorol. Soc., 124, 1391<96> 1401.\n",
    "\n",
    "Cloudy sky reference:\n",
    "\n",
    "Kimball, B. A., S. B. Idso, and J. K. Aase (1982), A model of thermal\n",
    "radiation from partly cloudy and overcast skies, Water Resour. Res., 18,\n",
    "931<96> 936.     \n",
    "\n",
    "### $$ L_{clr} = 59.38 + 113 (\\frac{T}{273.16})^6 + 96.96\\sqrt{w/25} $$\n",
    "\n",
    "### $$ L_{cld} = \\tau_8 \\cdot c \\cdot f_8 (T-11)^4$$\n",
    "where\n",
    "$$ \\epsilon = 0.24 + 2.98 \\cdot 10^{-6} VP^2 e^{3000/T} $$\n",
    "$$ \\tau = 1-\\epsilon (1.4 - (0.4\\epsilon)) $$\n",
    "$$ f = -0.6723 + 0.624 \\cdot 10^{-2} \\cdot (T-11) - 0.914\\cdot10^{-5} (T-11)^2 $$\n",
    "and $w$ is precipitable water."
   ]
  },
  {
   "cell_type": "markdown",
   "id": "executive-collins",
   "metadata": {},
   "source": [
    "## Your assignment\n",
    "\n",
    "As described above, we have provided implementations of each of these longwave parameters which you will compare. We have also provided the data and functions to get you started. To begin we import some standard librarires. The `utilities` library is where we have implemented the specific functionality for you to be able to modify the longwave radiation. Additionally, we have implemented simple cloud correction schemes, which further modify the longwave radiation when there is cloud cover. You can think of clouds as a blanket which insulate the land surface, increasing the longwave radiation. As you might have noticed above, this cloud cover correction is built into the DOKIA method. We will describe how to activate the cloud cover fraction later.\n",
    "\n",
    "To get started, import the libraries below."
   ]
  },
  {
   "cell_type": "code",
   "execution_count": null,
   "id": "assisted-edition",
   "metadata": {},
   "outputs": [],
   "source": [
    "import utilities\n",
    "from matplotlib import pyplot as plt\n",
    "import numpy as np\n",
    "import xarray as xr\n",
    "import pysumma as ps\n",
    "import pandas as pd"
   ]
  },
  {
   "cell_type": "markdown",
   "id": "comparable-personal",
   "metadata": {},
   "source": [
    "## Site selection\n",
    "\n",
    "To make things more computationally tractable, you will only have to select a single site for your assignment. You can set it below. The line beginning with a `!` is known as a \"bang\", which indicates a [`bash`](https://www.gnu.org/software/bash/) command. `bash` is a language for interacting with Linux environments, which HydroShare runs on. This command updates a configuration file so that you are ready to run the default simulation. Running the following cell will run the simulation with the observed longwave radiation, as well as open up the observed SWE for your site. If you do not see a `'Success'` print after running the following cell, something has gone wrong and you should ask for help!"
   ]
  },
  {
   "cell_type": "code",
   "execution_count": null,
   "id": "binary-aberdeen",
   "metadata": {},
   "outputs": [],
   "source": [
    "# Select one of 'dana', 'reynolds', or 'coldeport'\n",
    "site = 'dana'\n",
    "# This line is needed to set the file manager up\n",
    "! cd ./data/{site}/ && ./install_local_setup.sh && cd -\n",
    "\n",
    "# Where the SUMMA program lives\n",
    "summa_exe = 'summa.exe'\n",
    "\n",
    "# The main SUMMA configuration file is here\n",
    "file_manager = f'./data/{site}/file_manager.txt'\n",
    "\n",
    "# Open up the observation data here\n",
    "obs = xr.open_dataset(f'./data/{site}/observations/{site}_obs.nc')\n",
    "\n",
    "# Make a new pysumma Simulation object and run it \n",
    "# following running, make sure things went okay\n",
    "sim_default = ps.Simulation(summa_exe, file_manager)\n",
    "sim_default.run('local')\n",
    "print(sim_default.status)"
   ]
  },
  {
   "cell_type": "markdown",
   "id": "compact-mention",
   "metadata": {},
   "source": [
    "## Modifying the longwave\n",
    "\n",
    "As we mentioned, we have implemented the various longwave parameterizations in the `utilities` library. We have also implemented a helper function that can get everything set up for you. This function is named `modify_longwave`. To see it's \"function signature\" (which defines the inputs and outputs of the function), go ahead and run the next cell."
   ]
  },
  {
   "cell_type": "code",
   "execution_count": null,
   "id": "twenty-offer",
   "metadata": {},
   "outputs": [],
   "source": [
    "?utilities.modify_longwave"
   ]
  },
  {
   "cell_type": "markdown",
   "id": "married-property",
   "metadata": {},
   "source": [
    "## Explaining the above\n",
    "\n",
    "From the above function signature, you should see that the function takes in three inputs:\n",
    "\n",
    " - `parameterization`: The name of the longwave parameterization to use\n",
    " - `manager_path`: The path to a file manager for SUMMA, to use as a template\n",
    " - `do_cloud_correction`: Whether to apply a cloud correction to the longwave radiation\n",
    " \n",
    "And a single output: A new file manager that you can use to make new `ps.Simulation` objects with the modified longwave radiation\n",
    "\n",
    "## Your tasks:\n",
    "\n",
    "- Choose one of the longwave parameterizations to run\n",
    "- Run new simulations both with, and without cloud corrections (This will require two calls to `utilities.modify_longwave` as well as two new `ps.Simulation` objects.)\n",
    "- Make plots of the longwave radiation (variable name is `LWRadAtm`) for the observed, with cloud correction, and without cloud correction\n",
    "- Make plots of the simulated SWE for each of the simulations\n",
    "- Comment on differences\n",
    "- For bonus, consider looking at the variable `scalarSnowAlbedo`, `scalarSnowSublimation`, and `scalarLatHeatTotal`!\n",
    "- For extra bonus, consider looking at multiple parameterizations!"
   ]
  },
  {
   "cell_type": "code",
   "execution_count": null,
   "id": "atmospheric-problem",
   "metadata": {},
   "outputs": [],
   "source": [
    "# Select one of 'dokia', 'anderson', 'satterlund', 'tva', 'prata'\n",
    "parameterization = 'satterlund'"
   ]
  },
  {
   "cell_type": "code",
   "execution_count": null,
   "id": "elder-international",
   "metadata": {},
   "outputs": [],
   "source": [
    "lw_file_manager_nocloud = utilities.modify_longwave(parameterization, file_manager, do_cloud_correction=False)\n",
    "sim_lw_nocloud = ps.Simulation(summa_exe, lw_file_manager_nocloud)\n",
    "sim_lw_nocloud.run('local')\n",
    "print(sim_lw_nocloud.status)"
   ]
  },
  {
   "cell_type": "code",
   "execution_count": null,
   "id": "noticed-assault",
   "metadata": {},
   "outputs": [],
   "source": [
    "lw_file_manager_cloud = utilities.modify_longwave(parameterization, file_manager, do_cloud_correction=True)\n",
    "sim_lw_cloud = ps.Simulation(summa_exe, lw_file_manager_cloud)\n",
    "sim_lw_cloud.run('local')\n",
    "print(sim_lw_nocloud.status)"
   ]
  },
  {
   "cell_type": "code",
   "execution_count": null,
   "id": "express-seeking",
   "metadata": {},
   "outputs": [],
   "source": [
    "(sim_lw_nocloud.output['LWRadAtm'].resample({'time': 'D'}).mean()\n",
    "                                  .plot(color='orange', linewidth=2, label=f'clear sky {parameterization}'))\n",
    "(sim_lw_cloud.output['LWRadAtm'].resample({'time': 'D'}).mean()\n",
    "                                .plot(color='crimson', linewidth=2, label=f'cloud corrected {parameterization}'))\n",
    "\n",
    "(sim_default.output['LWRadAtm'].resample({'time': 'D'}).mean()\n",
    "                               .plot(color='blue', linewidth=2, label='observed longwave'))\n",
    "plt.legend()"
   ]
  },
  {
   "cell_type": "code",
   "execution_count": null,
   "id": "recovered-hopkins",
   "metadata": {},
   "outputs": [],
   "source": [
    "sim_default.output"
   ]
  },
  {
   "cell_type": "code",
   "execution_count": null,
   "id": "developmental-worst",
   "metadata": {},
   "outputs": [],
   "source": [
    "obs['SWE'].plot(color='black', linewidth=2, label='observed SWE')\n",
    "sim_default.output['scalarSWE'].plot(color='blue', linewidth=2, label='using obs LW')\n",
    "sim_lw_nocloud.output['scalarSWE'].plot(color='orange', linewidth=2, label='clear sky LW')\n",
    "sim_lw_cloud.output['scalarSWE'].plot(color='crimson', linewidth=2, label='cloud corrected LW')\n",
    "plt.legend()"
   ]
  },
  {
   "cell_type": "code",
   "execution_count": null,
   "id": "laughing-vector",
   "metadata": {},
   "outputs": [],
   "source": [
    "sim_default.output['scalarSnowDepth'].plot(color='blue', linewidth=2, label='using obs LW')\n",
    "sim_lw_nocloud.output['scalarSnowDepth'].plot(color='orange', linewidth=2, label='clear sky LW')\n",
    "sim_lw_cloud.output['scalarSnowDepth'].plot(color='crimson', linewidth=2, label='cloud corrected LW')\n",
    "plt.legend()"
   ]
  },
  {
   "cell_type": "code",
   "execution_count": null,
   "id": "electrical-consciousness",
   "metadata": {},
   "outputs": [],
   "source": []
  }
 ],
 "metadata": {
  "kernelspec": {
   "display_name": "all",
   "language": "python",
   "name": "all"
  },
  "language_info": {
   "codemirror_mode": {
    "name": "ipython",
    "version": 3
   },
   "file_extension": ".py",
   "mimetype": "text/x-python",
   "name": "python",
   "nbconvert_exporter": "python",
   "pygments_lexer": "ipython3",
   "version": "3.7.8"
  },
  "widgets": {
   "application/vnd.jupyter.widget-state+json": {
    "state": {},
    "version_major": 2,
    "version_minor": 0
   }
  }
 },
 "nbformat": 4,
 "nbformat_minor": 5
}
