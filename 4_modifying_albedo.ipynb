{
 "cells": [
  {
   "cell_type": "markdown",
   "id": "proprietary-moderator",
   "metadata": {},
   "source": [
    "# Comparing the effects of different albedo parameterizations on simulated snow\n",
    "\n",
    "The albedo of the snow surface controls how much energy from longwave and shortwave radiation is absorbed versus reflected. The way in which the albedo evolves over time can be parameterized in a number of wasy, and has tunable parameters, which all affect the overall evolution of the simulated snowpack. In this exercise you will explore two methods, as well as look at how a number of parameters affect the snow simulations. Again, we will use the same three sites as before.\n",
    "\n",
    "## Your tasks\n",
    "\n",
    "- Create a configuration that will test 2 different values for albedo min/max. These can be changed through the `albedoMax` and `albedoMinWinter` parameters in the `global_hru_params` attribute of the `Simulation` object.\n",
    "- Choose 2 of the longwave methods from the previous notebook, and run both clear and cloudy sky versions.\n",
    "- Create an `Ensemble` object that can run the above-described configuration (This should have 8 runs)\n",
    "- Run the ensemble for one of the sites.\n",
    "- Explore how this affects the modeled SWE, snow depth, and albedo over time"
   ]
  },
  {
   "cell_type": "code",
   "execution_count": null,
   "id": "settled-olympus",
   "metadata": {},
   "outputs": [],
   "source": [
    "import utilities\n",
    "from matplotlib import pyplot as plt\n",
    "import numpy as np\n",
    "import xarray as xr\n",
    "import pysumma as ps\n",
    "import pandas as pd"
   ]
  },
  {
   "cell_type": "code",
   "execution_count": null,
   "id": "together-basket",
   "metadata": {},
   "outputs": [],
   "source": [
    "# Select one of 'dana', 'reynolds', or 'coldeport'\n",
    "site = 'dana'\n",
    "! cd ./data/{site}/ && ./install_local_setup.sh && cd -"
   ]
  },
  {
   "cell_type": "code",
   "execution_count": null,
   "id": "emerging-training",
   "metadata": {},
   "outputs": [],
   "source": [
    "summa_exe = 'summa.exe'\n",
    "\n",
    "file_manager = f'./data/{site}/file_manager.txt'\n",
    "obs = xr.open_dataset(f'./data/{site}/observations/{site}_obs.nc')\n",
    "\n",
    "config = {}"
   ]
  }
 ],
 "metadata": {
  "kernelspec": {
   "display_name": "all",
   "language": "python",
   "name": "all"
  },
  "language_info": {
   "codemirror_mode": {
    "name": "ipython",
    "version": 3
   },
   "file_extension": ".py",
   "mimetype": "text/x-python",
   "name": "python",
   "nbconvert_exporter": "python",
   "pygments_lexer": "ipython3",
   "version": "3.7.8"
  },
  "widgets": {
   "application/vnd.jupyter.widget-state+json": {
    "state": {},
    "version_major": 2,
    "version_minor": 0
   }
  }
 },
 "nbformat": 4,
 "nbformat_minor": 5
}
